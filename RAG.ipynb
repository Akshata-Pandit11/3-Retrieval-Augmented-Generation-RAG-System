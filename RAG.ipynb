{
 "cells": [
  {
   "cell_type": "code",
   "execution_count": 1,
   "id": "2596a44b-8e42-4ca5-9e0a-28e85d943e49",
   "metadata": {},
   "outputs": [
    {
     "name": "stdout",
     "output_type": "stream",
     "text": [
      "Defaulting to user installation because normal site-packages is not writeable\n",
      "Requirement already satisfied: langchain in c:\\users\\akshata pandit\\appdata\\roaming\\python\\python311\\site-packages (0.3.25)\n",
      "Requirement already satisfied: faiss-cpu in c:\\users\\akshata pandit\\appdata\\roaming\\python\\python311\\site-packages (1.11.0)\n",
      "Requirement already satisfied: sentence-transformers in c:\\users\\akshata pandit\\appdata\\roaming\\python\\python311\\site-packages (4.1.0)\n",
      "Requirement already satisfied: transformers in c:\\users\\akshata pandit\\appdata\\roaming\\python\\python311\\site-packages (4.51.3)\n",
      "Requirement already satisfied: langchain-core<1.0.0,>=0.3.58 in c:\\users\\akshata pandit\\appdata\\roaming\\python\\python311\\site-packages (from langchain) (0.3.60)\n",
      "Requirement already satisfied: langchain-text-splitters<1.0.0,>=0.3.8 in c:\\users\\akshata pandit\\appdata\\roaming\\python\\python311\\site-packages (from langchain) (0.3.8)\n",
      "Requirement already satisfied: langsmith<0.4,>=0.1.17 in c:\\users\\akshata pandit\\appdata\\roaming\\python\\python311\\site-packages (from langchain) (0.3.42)\n",
      "Requirement already satisfied: pydantic<3.0.0,>=2.7.4 in c:\\users\\akshata pandit\\appdata\\roaming\\python\\python311\\site-packages (from langchain) (2.11.4)\n",
      "Requirement already satisfied: SQLAlchemy<3,>=1.4 in c:\\users\\akshata pandit\\appdata\\roaming\\python\\python311\\site-packages (from langchain) (2.0.41)\n",
      "Requirement already satisfied: requests<3,>=2 in c:\\users\\akshata pandit\\appdata\\roaming\\python\\python311\\site-packages (from langchain) (2.32.3)\n",
      "Requirement already satisfied: PyYAML>=5.3 in c:\\programdata\\anaconda3\\lib\\site-packages (from langchain) (6.0.1)\n",
      "Requirement already satisfied: numpy<3.0,>=1.25.0 in c:\\users\\akshata pandit\\appdata\\roaming\\python\\python311\\site-packages (from faiss-cpu) (1.26.4)\n",
      "Requirement already satisfied: packaging in c:\\users\\akshata pandit\\appdata\\roaming\\python\\python311\\site-packages (from faiss-cpu) (23.2)\n",
      "Requirement already satisfied: tqdm in c:\\programdata\\anaconda3\\lib\\site-packages (from sentence-transformers) (4.65.0)\n",
      "Requirement already satisfied: torch>=1.11.0 in c:\\users\\akshata pandit\\appdata\\roaming\\python\\python311\\site-packages (from sentence-transformers) (2.7.0)\n",
      "Requirement already satisfied: scikit-learn in c:\\users\\akshata pandit\\appdata\\roaming\\python\\python311\\site-packages (from sentence-transformers) (1.6.1)\n",
      "Requirement already satisfied: scipy in c:\\programdata\\anaconda3\\lib\\site-packages (from sentence-transformers) (1.11.4)\n",
      "Requirement already satisfied: huggingface-hub>=0.20.0 in c:\\users\\akshata pandit\\appdata\\roaming\\python\\python311\\site-packages (from sentence-transformers) (0.31.2)\n",
      "Requirement already satisfied: Pillow in c:\\users\\akshata pandit\\appdata\\roaming\\python\\python311\\site-packages (from sentence-transformers) (10.4.0)\n",
      "Requirement already satisfied: typing_extensions>=4.5.0 in c:\\users\\akshata pandit\\appdata\\roaming\\python\\python311\\site-packages (from sentence-transformers) (4.13.2)\n",
      "Requirement already satisfied: filelock in c:\\programdata\\anaconda3\\lib\\site-packages (from transformers) (3.13.1)\n",
      "Requirement already satisfied: regex!=2019.12.17 in c:\\programdata\\anaconda3\\lib\\site-packages (from transformers) (2023.10.3)\n",
      "Requirement already satisfied: tokenizers<0.22,>=0.21 in c:\\users\\akshata pandit\\appdata\\roaming\\python\\python311\\site-packages (from transformers) (0.21.1)\n",
      "Requirement already satisfied: safetensors>=0.4.3 in c:\\users\\akshata pandit\\appdata\\roaming\\python\\python311\\site-packages (from transformers) (0.5.3)\n",
      "Requirement already satisfied: fsspec>=2023.5.0 in c:\\programdata\\anaconda3\\lib\\site-packages (from huggingface-hub>=0.20.0->sentence-transformers) (2023.10.0)\n",
      "Requirement already satisfied: tenacity!=8.4.0,<10.0.0,>=8.1.0 in c:\\users\\akshata pandit\\appdata\\roaming\\python\\python311\\site-packages (from langchain-core<1.0.0,>=0.3.58->langchain) (8.5.0)\n",
      "Requirement already satisfied: jsonpatch<2.0,>=1.33 in c:\\users\\akshata pandit\\appdata\\roaming\\python\\python311\\site-packages (from langchain-core<1.0.0,>=0.3.58->langchain) (1.33)\n",
      "Requirement already satisfied: httpx<1,>=0.23.0 in c:\\programdata\\anaconda3\\lib\\site-packages (from langsmith<0.4,>=0.1.17->langchain) (0.27.0)\n",
      "Requirement already satisfied: orjson<4.0.0,>=3.9.14 in c:\\users\\akshata pandit\\appdata\\roaming\\python\\python311\\site-packages (from langsmith<0.4,>=0.1.17->langchain) (3.10.18)\n",
      "Requirement already satisfied: requests-toolbelt<2.0.0,>=1.0.0 in c:\\programdata\\anaconda3\\lib\\site-packages (from langsmith<0.4,>=0.1.17->langchain) (1.0.0)\n",
      "Requirement already satisfied: zstandard<0.24.0,>=0.23.0 in c:\\users\\akshata pandit\\appdata\\roaming\\python\\python311\\site-packages (from langsmith<0.4,>=0.1.17->langchain) (0.23.0)\n",
      "Requirement already satisfied: annotated-types>=0.6.0 in c:\\users\\akshata pandit\\appdata\\roaming\\python\\python311\\site-packages (from pydantic<3.0.0,>=2.7.4->langchain) (0.7.0)\n",
      "Requirement already satisfied: pydantic-core==2.33.2 in c:\\users\\akshata pandit\\appdata\\roaming\\python\\python311\\site-packages (from pydantic<3.0.0,>=2.7.4->langchain) (2.33.2)\n",
      "Requirement already satisfied: typing-inspection>=0.4.0 in c:\\users\\akshata pandit\\appdata\\roaming\\python\\python311\\site-packages (from pydantic<3.0.0,>=2.7.4->langchain) (0.4.0)\n",
      "Requirement already satisfied: charset-normalizer<4,>=2 in c:\\users\\akshata pandit\\appdata\\roaming\\python\\python311\\site-packages (from requests<3,>=2->langchain) (3.4.2)\n",
      "Requirement already satisfied: idna<4,>=2.5 in c:\\users\\akshata pandit\\appdata\\roaming\\python\\python311\\site-packages (from requests<3,>=2->langchain) (3.10)\n",
      "Requirement already satisfied: urllib3<3,>=1.21.1 in c:\\users\\akshata pandit\\appdata\\roaming\\python\\python311\\site-packages (from requests<3,>=2->langchain) (2.4.0)\n",
      "Requirement already satisfied: certifi>=2017.4.17 in c:\\users\\akshata pandit\\appdata\\roaming\\python\\python311\\site-packages (from requests<3,>=2->langchain) (2025.4.26)\n",
      "Requirement already satisfied: greenlet>=1 in c:\\programdata\\anaconda3\\lib\\site-packages (from SQLAlchemy<3,>=1.4->langchain) (3.0.1)\n",
      "Requirement already satisfied: sympy>=1.13.3 in c:\\users\\akshata pandit\\appdata\\roaming\\python\\python311\\site-packages (from torch>=1.11.0->sentence-transformers) (1.14.0)\n",
      "Requirement already satisfied: networkx in c:\\programdata\\anaconda3\\lib\\site-packages (from torch>=1.11.0->sentence-transformers) (3.1)\n",
      "Requirement already satisfied: jinja2 in c:\\users\\akshata pandit\\appdata\\roaming\\python\\python311\\site-packages (from torch>=1.11.0->sentence-transformers) (3.1.6)\n",
      "Requirement already satisfied: colorama in c:\\users\\akshata pandit\\appdata\\roaming\\python\\python311\\site-packages (from tqdm->sentence-transformers) (0.4.6)\n",
      "Requirement already satisfied: joblib>=1.2.0 in c:\\programdata\\anaconda3\\lib\\site-packages (from scikit-learn->sentence-transformers) (1.2.0)\n",
      "Requirement already satisfied: threadpoolctl>=3.1.0 in c:\\users\\akshata pandit\\appdata\\roaming\\python\\python311\\site-packages (from scikit-learn->sentence-transformers) (3.5.0)\n",
      "Requirement already satisfied: anyio in c:\\programdata\\anaconda3\\lib\\site-packages (from httpx<1,>=0.23.0->langsmith<0.4,>=0.1.17->langchain) (4.2.0)\n",
      "Requirement already satisfied: httpcore==1.* in c:\\programdata\\anaconda3\\lib\\site-packages (from httpx<1,>=0.23.0->langsmith<0.4,>=0.1.17->langchain) (1.0.2)\n",
      "Requirement already satisfied: sniffio in c:\\programdata\\anaconda3\\lib\\site-packages (from httpx<1,>=0.23.0->langsmith<0.4,>=0.1.17->langchain) (1.3.0)\n",
      "Requirement already satisfied: h11<0.15,>=0.13 in c:\\programdata\\anaconda3\\lib\\site-packages (from httpcore==1.*->httpx<1,>=0.23.0->langsmith<0.4,>=0.1.17->langchain) (0.14.0)\n",
      "Requirement already satisfied: jsonpointer>=1.9 in c:\\programdata\\anaconda3\\lib\\site-packages (from jsonpatch<2.0,>=1.33->langchain-core<1.0.0,>=0.3.58->langchain) (2.1)\n",
      "Requirement already satisfied: mpmath<1.4,>=1.1.0 in c:\\programdata\\anaconda3\\lib\\site-packages (from sympy>=1.13.3->torch>=1.11.0->sentence-transformers) (1.3.0)\n",
      "Requirement already satisfied: MarkupSafe>=2.0 in c:\\users\\akshata pandit\\appdata\\roaming\\python\\python311\\site-packages (from jinja2->torch>=1.11.0->sentence-transformers) (3.0.2)\n"
     ]
    },
    {
     "name": "stderr",
     "output_type": "stream",
     "text": [
      "DEPRECATION: Loading egg at c:\\programdata\\anaconda3\\lib\\site-packages\\vboxapi-1.0-py3.11.egg is deprecated. pip 25.1 will enforce this behaviour change. A possible replacement is to use pip for package installation. Discussion can be found at https://github.com/pypa/pip/issues/12330\n",
      "\n",
      "[notice] A new release of pip is available: 24.3.1 -> 25.1.1\n",
      "[notice] To update, run: python.exe -m pip install --upgrade pip\n"
     ]
    }
   ],
   "source": [
    "!pip install langchain faiss-cpu sentence-transformers transformers\n"
   ]
  },
  {
   "cell_type": "code",
   "execution_count": 2,
   "id": "d4fc3817-ee18-4a62-bfd6-a5b912af6a0a",
   "metadata": {},
   "outputs": [],
   "source": [
    "from langchain.embeddings import HuggingFaceEmbeddings\n",
    "from langchain.vectorstores import FAISS\n",
    "from langchain.text_splitter import CharacterTextSplitter\n",
    "from langchain.llms import HuggingFacePipeline\n",
    "from langchain.chains import RetrievalQA\n",
    "from langchain.docstore.document import Document\n",
    "from transformers import pipeline\n",
    "\n",
    "import os"
   ]
  },
  {
   "cell_type": "code",
   "execution_count": 3,
   "id": "23a71fc6-9745-4ab7-80ee-daf19374b405",
   "metadata": {},
   "outputs": [
    {
     "name": "stdout",
     "output_type": "stream",
     "text": [
      "Loaded 20 chunks.\n"
     ]
    }
   ],
   "source": [
    "def load_and_chunk(file_path, chunk_size=500, chunk_overlap=50):\n",
    "    with open(file_path,'r',encoding='utf-8') as f:\n",
    "        text=f.read()\n",
    "    \n",
    "    splitter=CharacterTextSplitter(chunk_size=chunk_size, chunk_overlap=chunk_overlap)\n",
    "    chunks=splitter.split_text(text)\n",
    "    \n",
    "    return [Document(page_content=chunk) for chunk in chunks]\n",
    "docs=load_and_chunk(\"C:\\\\Users\\\\Akshata Pandit\\\\Downloads\\\\knowledge_base.txt\")\n",
    "print(f\"Loaded {len(docs)} chunks.\")"
   ]
  },
  {
   "cell_type": "code",
   "execution_count": 4,
   "id": "d66fa17e-2b56-4f73-8fe6-957f848c8411",
   "metadata": {},
   "outputs": [
    {
     "name": "stderr",
     "output_type": "stream",
     "text": [
      "C:\\Users\\Akshata Pandit\\AppData\\Local\\Temp\\ipykernel_11888\\318331682.py:2: LangChainDeprecationWarning: The class `HuggingFaceEmbeddings` was deprecated in LangChain 0.2.2 and will be removed in 1.0. An updated version of the class exists in the :class:`~langchain-huggingface package and should be used instead. To use it run `pip install -U :class:`~langchain-huggingface` and import as `from :class:`~langchain_huggingface import HuggingFaceEmbeddings``.\n",
      "  embeddings=HuggingFaceEmbeddings(model_name=\"all-MiniLM-L6-v2\")\n"
     ]
    }
   ],
   "source": [
    "def create_vector_store(docs):\n",
    "    embeddings=HuggingFaceEmbeddings(model_name=\"all-MiniLM-L6-v2\")\n",
    "    vectorstore=FAISS.from_documents(docs, embeddings)\n",
    "    return vectorstore\n",
    "\n",
    "vectorstore=create_vector_store(docs)"
   ]
  },
  {
   "cell_type": "code",
   "execution_count": 5,
   "id": "80819ec4-c7d5-4c42-a935-acbdce6ea339",
   "metadata": {},
   "outputs": [
    {
     "name": "stderr",
     "output_type": "stream",
     "text": [
      "Device set to use cpu\n",
      "C:\\Users\\Akshata Pandit\\AppData\\Local\\Temp\\ipykernel_11888\\375446207.py:2: LangChainDeprecationWarning: The class `HuggingFacePipeline` was deprecated in LangChain 0.0.37 and will be removed in 1.0. An updated version of the class exists in the :class:`~langchain-huggingface package and should be used instead. To use it run `pip install -U :class:`~langchain-huggingface` and import as `from :class:`~langchain_huggingface import HuggingFacePipeline``.\n",
      "  llm=HuggingFacePipeline(pipeline=pipe)\n"
     ]
    }
   ],
   "source": [
    "pipe=pipeline(\"text2text-generation\",model=\"google/flan-t5-base\",max_length=256)\n",
    "llm=HuggingFacePipeline(pipeline=pipe)\n",
    "rag_chain=RetrievalQA.from_chain_type(\n",
    "    llm=llm,\n",
    "    retriever=vectorstore.as_retriever(),\n",
    "    return_source_documents=True\n",
    ")"
   ]
  },
  {
   "cell_type": "code",
   "execution_count": 6,
   "id": "7fcf4f07-9c13-4b7d-81dd-c0973fe2a5c5",
   "metadata": {},
   "outputs": [
    {
     "name": "stderr",
     "output_type": "stream",
     "text": [
      "C:\\Users\\Akshata Pandit\\AppData\\Local\\Temp\\ipykernel_11888\\799565735.py:2: LangChainDeprecationWarning: The method `Chain.__call__` was deprecated in langchain 0.1.0 and will be removed in 1.0. Use :meth:`~invoke` instead.\n",
      "  result=rag_chain({\"query\": query})\n"
     ]
    },
    {
     "name": "stdout",
     "output_type": "stream",
     "text": [
      "Answer:\n",
      "an architecture that enhances language model output by retrieving relevant documents from a knowledge base before answering a query\n",
      "\n",
      "Source Chunks:\n",
      "\n",
      "--- Source 1 ---\n",
      "Retrieval-Augmented Generation (RAG) is an architecture that enhances language model output by retrieving relevant documents from a knowledge base before answering a query. It combines a retriever and a generator model.\n",
      "\n",
      "RAG systems are particularly useful for tasks requiring up-to-date or domain-specific information, such as customer support, document Q&A, legal search, and medical diagnostics.\n",
      "\n",
      "--- Source 2 ---\n",
      "Using metadata filters (like document type or section) during retrieval can improve relevance and precision, especially in multi-domain knowledge bases.\n",
      "\n",
      "Hybrid retrieval combines dense embeddings with keyword-based search (BM25). This is useful when embeddings alone are insufficient for precision.\n",
      "\n",
      "Multi-vector retrieval stores multiple embeddings per document, such as one per sentence or paragraph. This improves recall but increases storage cost.\n",
      "\n",
      "--- Source 3 ---\n",
      "Retrievers rank the document chunks based on their semantic similarity to the user query. Generators use the retrieved chunks to generate a coherent, grounded answer.\n",
      "\n",
      "LangChain supports multiple embedding and LLM providers, including HuggingFace, OpenAI, Cohere, and Azure. It provides abstractions for building QA systems, chatbots, and tools-based agents.\n",
      "\n",
      "--- Source 4 ---\n",
      "Open-source embedding models like all-MiniLM, E5, and Instructor-XL are widely used due to their balance of speed and accuracy.\n",
      "\n",
      "LangChain’s `RetrievalQA` chain is a popular component that allows seamless integration of retrieval with an LLM to answer questions based on source documents.\n",
      "\n",
      "Chroma is a fast and easy-to-use vector store that supports persistent storage, collection filtering, and metadata management. It is an alternative to FAISS.\n"
     ]
    },
    {
     "data": {
      "text/plain": [
       "'an architecture that enhances language model output by retrieving relevant documents from a knowledge base before answering a query'"
      ]
     },
     "execution_count": 6,
     "metadata": {},
     "output_type": "execute_result"
    }
   ],
   "source": [
    "def ask_question(query):\n",
    "    result=rag_chain({\"query\": query})\n",
    "    answer=result[\"result\"]\n",
    "    sources=result[\"source_documents\"]\n",
    "    \n",
    "    print(\"Answer:\")\n",
    "    print(answer)\n",
    "    print(\"\\nSource Chunks:\")\n",
    "    for i, doc in enumerate(sources):\n",
    "        print(f\"\\n--- Source {i+1} ---\\n{doc.page_content}\")\n",
    "        \n",
    "    return answer\n",
    "ask_question(\"What is retrieval augmented generation?\")"
   ]
  },
  {
   "cell_type": "code",
   "execution_count": 7,
   "id": "7fe368ab-f616-4cfc-85f5-a09931420a99",
   "metadata": {},
   "outputs": [
    {
     "name": "stdout",
     "output_type": "stream",
     "text": [
      "* Running on local URL:  http://127.0.0.1:7864\n",
      "* To create a public link, set `share=True` in `launch()`.\n"
     ]
    },
    {
     "data": {
      "text/html": [
       "<div><iframe src=\"http://127.0.0.1:7864/\" width=\"100%\" height=\"500\" allow=\"autoplay; camera; microphone; clipboard-read; clipboard-write;\" frameborder=\"0\" allowfullscreen></iframe></div>"
      ],
      "text/plain": [
       "<IPython.core.display.HTML object>"
      ]
     },
     "metadata": {},
     "output_type": "display_data"
    },
    {
     "data": {
      "text/plain": []
     },
     "execution_count": 7,
     "metadata": {},
     "output_type": "execute_result"
    }
   ],
   "source": [
    "import gradio as gr\n",
    "\n",
    "def chatbot(query):\n",
    "    result=rag_chain({\"query\": query})\n",
    "    answer=result[\"result\"]\n",
    "    sources=\"\\n\\n\".join([f\"Source {i+1}: {doc.page_content}\" for i, doc in enumerate(result[\"source_documents\"])])\n",
    "    return f\"{answer}\\n\\n--- Sources ---\\n{sources}\"\n",
    "\n",
    "gr.Interface(fn=chatbot,\n",
    "             inputs=gr.Textbox(lines=2, placeholder=\"Ask a question...\"),\n",
    "             outputs=\"text\",\n",
    "             title=\"RAG Chatbot\",\n",
    "             description=\"Retrieval-Augmented Generation using FAISS + FLAN-T5\"\n",
    ").launch()\n"
   ]
  },
  {
   "cell_type": "code",
   "execution_count": 8,
   "id": "8c91ea63-58a0-4c05-8202-7914aa65d473",
   "metadata": {},
   "outputs": [
    {
     "name": "stdout",
     "output_type": "stream",
     "text": [
      "* Running on local URL:  http://127.0.0.1:7865\n",
      "* To create a public link, set `share=True` in `launch()`.\n"
     ]
    },
    {
     "data": {
      "text/html": [
       "<div><iframe src=\"http://127.0.0.1:7865/\" width=\"100%\" height=\"500\" allow=\"autoplay; camera; microphone; clipboard-read; clipboard-write;\" frameborder=\"0\" allowfullscreen></iframe></div>"
      ],
      "text/plain": [
       "<IPython.core.display.HTML object>"
      ]
     },
     "metadata": {},
     "output_type": "display_data"
    },
    {
     "data": {
      "text/plain": []
     },
     "execution_count": 8,
     "metadata": {},
     "output_type": "execute_result"
    }
   ],
   "source": [
    "def chatbot(query):\n",
    "    result=rag_chain({\"query\": query})\n",
    "    answer=result[\"result\"]\n",
    "    sources=\"\\n\\n\".join([f\"Source {i+1}: {doc.page_content}\" for i, doc in enumerate(result[\"source_documents\"])])\n",
    "    return f\"{answer}\\n\\n--- Sources ---\\n{sources}\"\n",
    "\n",
    "gr.Interface(fn=chatbot,\n",
    "             inputs=gr.Textbox(lines=2, placeholder=\"Ask a question...\"),\n",
    "             outputs=\"text\",\n",
    "             title=\"RAG Chatbot\",\n",
    "             description=\"Retrieval-Augmented Generation using FAISS + FLAN-T5\"\n",
    ").launch()"
   ]
  },
  {
   "cell_type": "code",
   "execution_count": 10,
   "id": "af0c2a30-6215-46d9-b85b-1a737f87c131",
   "metadata": {},
   "outputs": [
    {
     "name": "stdout",
     "output_type": "stream",
     "text": [
      "* Running on local URL:  http://127.0.0.1:7867\n",
      "* To create a public link, set `share=True` in `launch()`.\n"
     ]
    },
    {
     "data": {
      "text/html": [
       "<div><iframe src=\"http://127.0.0.1:7867/\" width=\"100%\" height=\"500\" allow=\"autoplay; camera; microphone; clipboard-read; clipboard-write;\" frameborder=\"0\" allowfullscreen></iframe></div>"
      ],
      "text/plain": [
       "<IPython.core.display.HTML object>"
      ]
     },
     "metadata": {},
     "output_type": "display_data"
    },
    {
     "data": {
      "text/plain": []
     },
     "execution_count": 10,
     "metadata": {},
     "output_type": "execute_result"
    }
   ],
   "source": [
    "def chatbot(query):\n",
    "    result=rag_chain({\"query\": query})\n",
    "    answer=result[\"result\"]\n",
    "    sources=\"\\n\\n\".join([f\"Source {i+1}: {doc.page_content}\" for i, doc in enumerate(result[\"source_documents\"])])\n",
    "    return f\"{answer}\\n\\n--- Sources ---\\n{sources}\"\n",
    "\n",
    "gr.Interface(fn=chatbot,\n",
    "             inputs=gr.Textbox(lines=2, placeholder=\"Ask a question...\"),\n",
    "             outputs=\"text\",\n",
    "             title=\"RAG Chatbot\",\n",
    "             description=\"Retrieval-Augmented Generation using FAISS + FLAN-T5\"\n",
    ").launch()"
   ]
  },
  {
   "cell_type": "code",
   "execution_count": null,
   "id": "a0756cb4-7b8f-4c03-96ea-82189ba0a3a8",
   "metadata": {},
   "outputs": [],
   "source": []
  }
 ],
 "metadata": {
  "kernelspec": {
   "display_name": "Python 3 (ipykernel)",
   "language": "python",
   "name": "python3"
  },
  "language_info": {
   "codemirror_mode": {
    "name": "ipython",
    "version": 3
   },
   "file_extension": ".py",
   "mimetype": "text/x-python",
   "name": "python",
   "nbconvert_exporter": "python",
   "pygments_lexer": "ipython3",
   "version": "3.11.7"
  }
 },
 "nbformat": 4,
 "nbformat_minor": 5
}
